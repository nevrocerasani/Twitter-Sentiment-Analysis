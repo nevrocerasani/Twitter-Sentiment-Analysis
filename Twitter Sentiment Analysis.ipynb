{
 "cells": [
  {
   "cell_type": "markdown",
   "metadata": {},
   "source": [
    "Twitter Sentiment Analysis\n",
    "===============\n",
    "This project is about analyzing tweets. We have a dataset with 1.6 million tweets at our disposal and they are labelled 0 (negative) or 4 (positive). <br> Our purpose is to exploit it in order to develop an algorithm for identifying the **sentiment polarity** in a tweet."
   ]
  },
  {
   "cell_type": "code",
   "execution_count": 1,
   "metadata": {},
   "outputs": [
    {
     "name": "stderr",
     "output_type": "stream",
     "text": [
      "/Users/nevrocerasani/opt/anaconda3/lib/python3.7/site-packages/statsmodels/tools/_testing.py:19: FutureWarning: pandas.util.testing is deprecated. Use the functions in the public API at pandas.testing instead.\n",
      "  import pandas.util.testing as tm\n"
     ]
    }
   ],
   "source": [
    "# Importing all the needed packages.\n",
    "\n",
    "import pandas as pd\n",
    "from bs4 import BeautifulSoup\n",
    "import re\n",
    "import matplotlib.pyplot as plt\n",
    "import spacy\n",
    "from nltk.stem import WordNetLemmatizer\n",
    "from sklearn.utils import shuffle\n",
    "from sklearn.model_selection import train_test_split\n",
    "from sklearn.pipeline import Pipeline\n",
    "from sklearn.feature_extraction.text import CountVectorizer\n",
    "from sklearn.feature_extraction.text import TfidfVectorizer\n",
    "from sklearn.svm import LinearSVC\n",
    "from sklearn.naive_bayes import MultinomialNB\n",
    "from sklearn.linear_model import LogisticRegression\n",
    "from sklearn import metrics\n",
    "import seaborn as sn"
   ]
  },
  {
   "cell_type": "markdown",
   "metadata": {},
   "source": [
    "## 1. Data cleaning and preparation\n",
    "Our first step will be to visualize our dataset in order to check whether it is \"ready to use\" or it needs to be adjusted before proceeding to build the model."
   ]
  },
  {
   "cell_type": "code",
   "execution_count": 2,
   "metadata": {},
   "outputs": [
    {
     "data": {
      "text/html": [
       "<div>\n",
       "<style scoped>\n",
       "    .dataframe tbody tr th:only-of-type {\n",
       "        vertical-align: middle;\n",
       "    }\n",
       "\n",
       "    .dataframe tbody tr th {\n",
       "        vertical-align: top;\n",
       "    }\n",
       "\n",
       "    .dataframe thead th {\n",
       "        text-align: right;\n",
       "    }\n",
       "</style>\n",
       "<table border=\"1\" class=\"dataframe\">\n",
       "  <thead>\n",
       "    <tr style=\"text-align: right;\">\n",
       "      <th></th>\n",
       "      <th>0</th>\n",
       "      <th>1</th>\n",
       "      <th>2</th>\n",
       "      <th>3</th>\n",
       "      <th>4</th>\n",
       "      <th>5</th>\n",
       "    </tr>\n",
       "  </thead>\n",
       "  <tbody>\n",
       "    <tr>\n",
       "      <th>0</th>\n",
       "      <td>0</td>\n",
       "      <td>1467810369</td>\n",
       "      <td>Mon Apr 06 22:19:45 PDT 2009</td>\n",
       "      <td>NO_QUERY</td>\n",
       "      <td>_TheSpecialOne_</td>\n",
       "      <td>@switchfoot http://twitpic.com/2y1zl - Awww, t...</td>\n",
       "    </tr>\n",
       "    <tr>\n",
       "      <th>1</th>\n",
       "      <td>0</td>\n",
       "      <td>1467810672</td>\n",
       "      <td>Mon Apr 06 22:19:49 PDT 2009</td>\n",
       "      <td>NO_QUERY</td>\n",
       "      <td>scotthamilton</td>\n",
       "      <td>is upset that he can't update his Facebook by ...</td>\n",
       "    </tr>\n",
       "    <tr>\n",
       "      <th>2</th>\n",
       "      <td>0</td>\n",
       "      <td>1467810917</td>\n",
       "      <td>Mon Apr 06 22:19:53 PDT 2009</td>\n",
       "      <td>NO_QUERY</td>\n",
       "      <td>mattycus</td>\n",
       "      <td>@Kenichan I dived many times for the ball. Man...</td>\n",
       "    </tr>\n",
       "    <tr>\n",
       "      <th>3</th>\n",
       "      <td>0</td>\n",
       "      <td>1467811184</td>\n",
       "      <td>Mon Apr 06 22:19:57 PDT 2009</td>\n",
       "      <td>NO_QUERY</td>\n",
       "      <td>ElleCTF</td>\n",
       "      <td>my whole body feels itchy and like its on fire</td>\n",
       "    </tr>\n",
       "    <tr>\n",
       "      <th>4</th>\n",
       "      <td>0</td>\n",
       "      <td>1467811193</td>\n",
       "      <td>Mon Apr 06 22:19:57 PDT 2009</td>\n",
       "      <td>NO_QUERY</td>\n",
       "      <td>Karoli</td>\n",
       "      <td>@nationwideclass no, it's not behaving at all....</td>\n",
       "    </tr>\n",
       "  </tbody>\n",
       "</table>\n",
       "</div>"
      ],
      "text/plain": [
       "   0           1                             2         3                4  \\\n",
       "0  0  1467810369  Mon Apr 06 22:19:45 PDT 2009  NO_QUERY  _TheSpecialOne_   \n",
       "1  0  1467810672  Mon Apr 06 22:19:49 PDT 2009  NO_QUERY    scotthamilton   \n",
       "2  0  1467810917  Mon Apr 06 22:19:53 PDT 2009  NO_QUERY         mattycus   \n",
       "3  0  1467811184  Mon Apr 06 22:19:57 PDT 2009  NO_QUERY          ElleCTF   \n",
       "4  0  1467811193  Mon Apr 06 22:19:57 PDT 2009  NO_QUERY           Karoli   \n",
       "\n",
       "                                                   5  \n",
       "0  @switchfoot http://twitpic.com/2y1zl - Awww, t...  \n",
       "1  is upset that he can't update his Facebook by ...  \n",
       "2  @Kenichan I dived many times for the ball. Man...  \n",
       "3    my whole body feels itchy and like its on fire   \n",
       "4  @nationwideclass no, it's not behaving at all....  "
      ]
     },
     "execution_count": 2,
     "metadata": {},
     "output_type": "execute_result"
    }
   ],
   "source": [
    "# Importing the dataset and giving it a look.\n",
    "\n",
    "df = pd.read_csv(\"training.1600000.processed.noemoticon.csv\", engine = \"python\", header = None)\n",
    "df.head()"
   ]
  },
  {
   "cell_type": "code",
   "execution_count": 3,
   "metadata": {},
   "outputs": [
    {
     "data": {
      "text/html": [
       "<div>\n",
       "<style scoped>\n",
       "    .dataframe tbody tr th:only-of-type {\n",
       "        vertical-align: middle;\n",
       "    }\n",
       "\n",
       "    .dataframe tbody tr th {\n",
       "        vertical-align: top;\n",
       "    }\n",
       "\n",
       "    .dataframe thead th {\n",
       "        text-align: right;\n",
       "    }\n",
       "</style>\n",
       "<table border=\"1\" class=\"dataframe\">\n",
       "  <thead>\n",
       "    <tr style=\"text-align: right;\">\n",
       "      <th></th>\n",
       "      <th>Sentiment</th>\n",
       "      <th>Tweet</th>\n",
       "    </tr>\n",
       "  </thead>\n",
       "  <tbody>\n",
       "    <tr>\n",
       "      <th>0</th>\n",
       "      <td>0</td>\n",
       "      <td>@switchfoot http://twitpic.com/2y1zl - Awww, t...</td>\n",
       "    </tr>\n",
       "    <tr>\n",
       "      <th>1</th>\n",
       "      <td>0</td>\n",
       "      <td>is upset that he can't update his Facebook by ...</td>\n",
       "    </tr>\n",
       "    <tr>\n",
       "      <th>2</th>\n",
       "      <td>0</td>\n",
       "      <td>@Kenichan I dived many times for the ball. Man...</td>\n",
       "    </tr>\n",
       "    <tr>\n",
       "      <th>3</th>\n",
       "      <td>0</td>\n",
       "      <td>my whole body feels itchy and like its on fire</td>\n",
       "    </tr>\n",
       "    <tr>\n",
       "      <th>4</th>\n",
       "      <td>0</td>\n",
       "      <td>@nationwideclass no, it's not behaving at all....</td>\n",
       "    </tr>\n",
       "  </tbody>\n",
       "</table>\n",
       "</div>"
      ],
      "text/plain": [
       "   Sentiment                                              Tweet\n",
       "0          0  @switchfoot http://twitpic.com/2y1zl - Awww, t...\n",
       "1          0  is upset that he can't update his Facebook by ...\n",
       "2          0  @Kenichan I dived many times for the ball. Man...\n",
       "3          0    my whole body feels itchy and like its on fire \n",
       "4          0  @nationwideclass no, it's not behaving at all...."
      ]
     },
     "execution_count": 3,
     "metadata": {},
     "output_type": "execute_result"
    }
   ],
   "source": [
    "# Adjusting the dataset according to our needs.\n",
    "\n",
    "df = df.iloc[:, [0,5]]\n",
    "df.columns = [\"Sentiment\", \"Tweet\"]\n",
    "df[\"Sentiment\"] = pd.to_numeric(df[\"Sentiment\"])\n",
    "df.head()"
   ]
  },
  {
   "cell_type": "code",
   "execution_count": 4,
   "metadata": {},
   "outputs": [],
   "source": [
    "# Removing some noise.\n",
    "\n",
    "def cleaner(tweet):\n",
    "    tweet = BeautifulSoup(tweet).get_text() # HTML tags\n",
    "    tweet = re.sub(r'@\\S+', '', tweet) # Mentions\n",
    "    tweet = re.sub(r'http\\S+', '', tweet) # Links\n",
    "    for i in tweet.split():\n",
    "        if i==\"rt\":\n",
    "            tweet = re.sub(i, \"\", tweet) # Retweets\n",
    "    tweet = re.sub(\"#\", \"\", tweet) # Hashes\n",
    "    tweet = tweet.lower() # Converting to lower case\n",
    "    tweet = tweet.lstrip() # Initial and final spaces\n",
    "    tweet = re.sub(\"\\s\\s+\", \" \", tweet) # Double spaces\n",
    "    return tweet\n",
    "df[\"Tweet\"] = df[\"Tweet\"].apply(lambda x: cleaner(x))"
   ]
  },
  {
   "cell_type": "code",
   "execution_count": 5,
   "metadata": {},
   "outputs": [
    {
     "name": "stdout",
     "output_type": "stream",
     "text": [
      "There are 1600000 rows and 2 columns.\n",
      "Missing values found: 0. Every field is properly filled.\n"
     ]
    }
   ],
   "source": [
    "# Visualizing the shape of the dataset and checking if all the fields are properly filled.\n",
    "\n",
    "print(\"There are \" + str(df.shape[0]) + \" rows and \" + str(df.shape[1]) + \" columns.\")\n",
    "nancount = df.isnull().sum().sum()\n",
    "if nancount==0:\n",
    "    print(\"Missing values found: 0. Every field is properly filled.\")\n",
    "else:\n",
    "    print(\"Missing values found: \" + str(nancount) + \". Deal with them before moving on.\")"
   ]
  },
  {
   "cell_type": "code",
   "execution_count": 6,
   "metadata": {},
   "outputs": [
    {
     "data": {
      "image/png": "[encoded data removed]",
      "text/plain": [
       "<Figure size 432x288 with 1 Axes>"
      ]
     },
     "metadata": {},
     "output_type": "display_data"
    }
   ],
   "source": [
    "# Showing the percentage distribution of the labels.\n",
    "\n",
    "labels = [\"Negative (0)\", \"Positive (4)\"]\n",
    "negcount=0\n",
    "poscount=0\n",
    "for i in df.Sentiment:\n",
    "    if i==0:\n",
    "        negcount+=1\n",
    "    elif i==4:\n",
    "        poscount+=1\n",
    "sizes = [poscount, negcount]\n",
    "colors = [\"red\", \"green\"]\n",
    "plt.pie(sizes, labels=labels, colors=colors, autopct='%1.1f%%', startangle=270)\n",
    "plt.show()"
   ]
  },
  {
   "cell_type": "markdown",
   "metadata": {},
   "source": [
    "## 2. Exploratory Data Analysis\n",
    "The second step will be to perform an exploratory data analysis: we will analyze every single tweet by performing some NLP techniques such as PoS, NER etc.\n",
    "\n",
    "NOTE: performing this kind of analysis on the whole dataframe would require significant amount of time. Therefore, for simplicity and given that we are not going to train the algorithms with the features from the analysis, we will analyze only the first 100 tweets (to analyze the whole dataset, it is enough to replace \"0:100\" with \"100\" as the first argument of the function \".iloc\" when creating the dataframe called \"EDA\")."
   ]
  },
  {
   "cell_type": "code",
   "execution_count": 7,
   "metadata": {},
   "outputs": [],
   "source": [
    "# Defining the SpaCy object and creating another dataframe for our analysis.\n",
    "\n",
    "nlp = spacy.load(\"en_core_web_sm\")\n",
    "EDA = df.iloc[0:100, 1]\n",
    "EDA = EDA.to_frame()"
   ]
  },
  {
   "cell_type": "code",
   "execution_count": 8,
   "metadata": {},
   "outputs": [],
   "source": [
    "# Tokenization: breaking the stream of characters into words (tokens).\n",
    "\n",
    "def tokenization(tweet):\n",
    "    tweet = nlp(tweet)\n",
    "    tok = []\n",
    "    for i in tweet:\n",
    "        tok.append(i.text)\n",
    "    return tok\n",
    "EDA[\"Tokenization\"] = EDA[\"Tweet\"].apply(lambda x: tokenization(x))"
   ]
  },
  {
   "cell_type": "code",
   "execution_count": 9,
   "metadata": {},
   "outputs": [],
   "source": [
    "# Sentence Size: adding the length of the sentence (number of tokens).\n",
    "\n",
    "def length(x):\n",
    "    return len(x)\n",
    "EDA[\"Sentence Size\"] = EDA[\"Tokenization\"].apply(lambda x: length(x))"
   ]
  },
  {
   "cell_type": "code",
   "execution_count": 10,
   "metadata": {},
   "outputs": [],
   "source": [
    "# Stopwords: List of most common words of a language that are often useful to filter out.\n",
    "\n",
    "def stopwords(tweet):\n",
    "    stops = []\n",
    "    for i in tweet:\n",
    "        if nlp.vocab[i].is_stop:\n",
    "            stops.append(i)\n",
    "    return stops\n",
    "EDA[\"Stopwords\"] = EDA[\"Tokenization\"].apply(lambda x: stopwords(x))"
   ]
  },
  {
   "cell_type": "code",
   "execution_count": 11,
   "metadata": {},
   "outputs": [],
   "source": [
    "# PoS: marking up a word in a text (corpus) as corresponding to a particular part of speech, based on both its\n",
    "# definition and its context.\n",
    "\n",
    "def PoS(tweet):\n",
    "    tweet = nlp(tweet)\n",
    "    pos = []\n",
    "    for i in tweet:\n",
    "        pos.append([i.text, i.pos_])\n",
    "    return pos\n",
    "EDA[\"PoS\"] = EDA[\"Tweet\"].apply(lambda x: PoS(x))"
   ]
  },
  {
   "cell_type": "code",
   "execution_count": 12,
   "metadata": {},
   "outputs": [],
   "source": [
    "# Dependency parsing: assigning a syntactic structure to the text.\n",
    "\n",
    "def dependencyparsing(tweet):\n",
    "    tweet = nlp(tweet)\n",
    "    dep = []\n",
    "    for i in tweet:\n",
    "        dep.append([i.text, i.dep_])\n",
    "    return dep\n",
    "EDA[\"Dependency Parsing\"] = EDA[\"Tweet\"].apply(lambda x: dependencyparsing(x))"
   ]
  },
  {
   "cell_type": "code",
   "execution_count": 13,
   "metadata": {},
   "outputs": [],
   "source": [
    "# NER (Named Entity Recognition): identifying token spans fitting a predetermined set of named entities.\n",
    "\n",
    "def NER(tweet):\n",
    "    tweet = nlp(tweet)\n",
    "    ner = []\n",
    "    if tweet.ents:\n",
    "        for i in tweet.ents:\n",
    "            ner.append([i.text, i.label_])\n",
    "    else:\n",
    "        ner.append(\"No named entities found.\")\n",
    "    return ner\n",
    "EDA[\"NER\"] = EDA[\"Tweet\"].apply(lambda x: NER(x))"
   ]
  },
  {
   "cell_type": "code",
   "execution_count": 14,
   "metadata": {},
   "outputs": [],
   "source": [
    "# Noun Chunks: Flat phrases that have a noun as their head.\n",
    "\n",
    "def nounchunks(tweet):\n",
    "    tweet = nlp(tweet)\n",
    "    chunks = []\n",
    "    for i in tweet.noun_chunks:\n",
    "        chunks.append(i.text)\n",
    "    return chunks\n",
    "EDA[\"Noun Chunks\"] = EDA[\"Tweet\"].apply(lambda x: nounchunks(x))"
   ]
  },
  {
   "cell_type": "code",
   "execution_count": 15,
   "metadata": {},
   "outputs": [
    {
     "data": {
      "text/html": [
       "<div>\n",
       "<style scoped>\n",
       "    .dataframe tbody tr th:only-of-type {\n",
       "        vertical-align: middle;\n",
       "    }\n",
       "\n",
       "    .dataframe tbody tr th {\n",
       "        vertical-align: top;\n",
       "    }\n",
       "\n",
       "    .dataframe thead th {\n",
       "        text-align: right;\n",
       "    }\n",
       "</style>\n",
       "<table border=\"1\" class=\"dataframe\">\n",
       "  <thead>\n",
       "    <tr style=\"text-align: right;\">\n",
       "      <th></th>\n",
       "      <th>Tweet</th>\n",
       "      <th>Tokenization</th>\n",
       "      <th>Sentence Size</th>\n",
       "      <th>Stopwords</th>\n",
       "      <th>PoS</th>\n",
       "      <th>Dependency Parsing</th>\n",
       "      <th>NER</th>\n",
       "      <th>Noun Chunks</th>\n",
       "    </tr>\n",
       "  </thead>\n",
       "  <tbody>\n",
       "    <tr>\n",
       "      <th>0</th>\n",
       "      <td>- awww, that's a bummer. you shoulda got david...</td>\n",
       "      <td>[-, awww, ,, that, 's, a, bummer, ., you, shou...</td>\n",
       "      <td>22</td>\n",
       "      <td>[that, 's, a, you, of, third, to, do, it]</td>\n",
       "      <td>[[-, PUNCT], [awww, PROPN], [,, PUNCT], [that,...</td>\n",
       "      <td>[[-, punct], [awww, advmod], [,, punct], [that...</td>\n",
       "      <td>[[shoulda, PERSON], [david carr, PERSON], [thi...</td>\n",
       "      <td>[a bummer, you, shoulda, david carr, third day...</td>\n",
       "    </tr>\n",
       "    <tr>\n",
       "      <th>1</th>\n",
       "      <td>is upset that he can't update his facebook by ...</td>\n",
       "      <td>[is, upset, that, he, ca, n't, update, his, fa...</td>\n",
       "      <td>25</td>\n",
       "      <td>[is, that, he, ca, n't, his, by, it, and, migh...</td>\n",
       "      <td>[[is, AUX], [upset, ADJ], [that, SCONJ], [he, ...</td>\n",
       "      <td>[[is, ROOT], [upset, acomp], [that, mark], [he...</td>\n",
       "      <td>[[today, DATE]]</td>\n",
       "      <td>[he, his facebook, it, a result school]</td>\n",
       "    </tr>\n",
       "    <tr>\n",
       "      <th>2</th>\n",
       "      <td>i dived many times for the ball. managed to sa...</td>\n",
       "      <td>[i, dived, many, times, for, the, ball, ., man...</td>\n",
       "      <td>19</td>\n",
       "      <td>[i, many, for, the, to, the, go, out, of]</td>\n",
       "      <td>[[i, PRON], [dived, VERB], [many, ADJ], [times...</td>\n",
       "      <td>[[i, nsubj], [dived, ROOT], [many, amod], [tim...</td>\n",
       "      <td>[[50%, PERCENT]]</td>\n",
       "      <td>[i, the ball, 50%, the rest, bounds]</td>\n",
       "    </tr>\n",
       "    <tr>\n",
       "      <th>3</th>\n",
       "      <td>my whole body feels itchy and like its on fire</td>\n",
       "      <td>[my, whole, body, feels, itchy, and, like, its...</td>\n",
       "      <td>10</td>\n",
       "      <td>[my, whole, and, its, on]</td>\n",
       "      <td>[[my, DET], [whole, ADJ], [body, NOUN], [feels...</td>\n",
       "      <td>[[my, poss], [whole, amod], [body, nsubj], [fe...</td>\n",
       "      <td>[No named entities found.]</td>\n",
       "      <td>[my whole body, fire]</td>\n",
       "    </tr>\n",
       "    <tr>\n",
       "      <th>4</th>\n",
       "      <td>no, it's not behaving at all. i'm mad. why am ...</td>\n",
       "      <td>[no, ,, it, 's, not, behaving, at, all, ., i, ...</td>\n",
       "      <td>28</td>\n",
       "      <td>[no, it, 's, not, at, all, i, 'm, why, am, i, ...</td>\n",
       "      <td>[[no, INTJ], [,, PUNCT], [it, PRON], ['s, AUX]...</td>\n",
       "      <td>[[no, intj], [,, punct], [it, nsubj], ['s, aux...</td>\n",
       "      <td>[No named entities found.]</td>\n",
       "      <td>[it, i, i, i, you]</td>\n",
       "    </tr>\n",
       "  </tbody>\n",
       "</table>\n",
       "</div>"
      ],
      "text/plain": [
       "                                               Tweet  \\\n",
       "0  - awww, that's a bummer. you shoulda got david...   \n",
       "1  is upset that he can't update his facebook by ...   \n",
       "2  i dived many times for the ball. managed to sa...   \n",
       "3    my whole body feels itchy and like its on fire    \n",
       "4  no, it's not behaving at all. i'm mad. why am ...   \n",
       "\n",
       "                                        Tokenization  Sentence Size  \\\n",
       "0  [-, awww, ,, that, 's, a, bummer, ., you, shou...             22   \n",
       "1  [is, upset, that, he, ca, n't, update, his, fa...             25   \n",
       "2  [i, dived, many, times, for, the, ball, ., man...             19   \n",
       "3  [my, whole, body, feels, itchy, and, like, its...             10   \n",
       "4  [no, ,, it, 's, not, behaving, at, all, ., i, ...             28   \n",
       "\n",
       "                                           Stopwords  \\\n",
       "0          [that, 's, a, you, of, third, to, do, it]   \n",
       "1  [is, that, he, ca, n't, his, by, it, and, migh...   \n",
       "2          [i, many, for, the, to, the, go, out, of]   \n",
       "3                          [my, whole, and, its, on]   \n",
       "4  [no, it, 's, not, at, all, i, 'm, why, am, i, ...   \n",
       "\n",
       "                                                 PoS  \\\n",
       "0  [[-, PUNCT], [awww, PROPN], [,, PUNCT], [that,...   \n",
       "1  [[is, AUX], [upset, ADJ], [that, SCONJ], [he, ...   \n",
       "2  [[i, PRON], [dived, VERB], [many, ADJ], [times...   \n",
       "3  [[my, DET], [whole, ADJ], [body, NOUN], [feels...   \n",
       "4  [[no, INTJ], [,, PUNCT], [it, PRON], ['s, AUX]...   \n",
       "\n",
       "                                  Dependency Parsing  \\\n",
       "0  [[-, punct], [awww, advmod], [,, punct], [that...   \n",
       "1  [[is, ROOT], [upset, acomp], [that, mark], [he...   \n",
       "2  [[i, nsubj], [dived, ROOT], [many, amod], [tim...   \n",
       "3  [[my, poss], [whole, amod], [body, nsubj], [fe...   \n",
       "4  [[no, intj], [,, punct], [it, nsubj], ['s, aux...   \n",
       "\n",
       "                                                 NER  \\\n",
       "0  [[shoulda, PERSON], [david carr, PERSON], [thi...   \n",
       "1                                    [[today, DATE]]   \n",
       "2                                   [[50%, PERCENT]]   \n",
       "3                         [No named entities found.]   \n",
       "4                         [No named entities found.]   \n",
       "\n",
       "                                         Noun Chunks  \n",
       "0  [a bummer, you, shoulda, david carr, third day...  \n",
       "1            [he, his facebook, it, a result school]  \n",
       "2               [i, the ball, 50%, the rest, bounds]  \n",
       "3                              [my whole body, fire]  \n",
       "4                                 [it, i, i, i, you]  "
      ]
     },
     "execution_count": 15,
     "metadata": {},
     "output_type": "execute_result"
    }
   ],
   "source": [
    "# At the end, our dataframe built for Exploratory Data Analysis looks like this:\n",
    "\n",
    "EDA.head()"
   ]
  },
  {
   "cell_type": "code",
   "execution_count": 16,
   "metadata": {},
   "outputs": [
    {
     "name": "stdout",
     "output_type": "stream",
     "text": [
      "i\tIs this a stopword? True\tPRON\tnsubj\n",
      "dived\tIs this a stopword? False\tVERB\tROOT\n",
      "many\tIs this a stopword? True\tADJ\tamod\n",
      "times\tIs this a stopword? False\tNOUN\tnpadvmod\n",
      "for\tIs this a stopword? True\tADP\tprep\n",
      "the\tIs this a stopword? True\tDET\tdet\n",
      "ball\tIs this a stopword? False\tNOUN\tpobj\n",
      ".\tIs this a stopword? False\tPUNCT\tpunct\n",
      "managed\tIs this a stopword? False\tVERB\tROOT\n",
      "to\tIs this a stopword? True\tPART\taux\n",
      "save\tIs this a stopword? False\tVERB\txcomp\n",
      "50\tIs this a stopword? False\tNUM\tnummod\n",
      "%\tIs this a stopword? False\tNOUN\tdobj\n",
      "the\tIs this a stopword? True\tDET\tdet\n",
      "rest\tIs this a stopword? False\tNOUN\tnsubj\n",
      "go\tIs this a stopword? True\tVERB\tROOT\n",
      "out\tIs this a stopword? True\tSCONJ\tprep\n",
      "of\tIs this a stopword? True\tADP\tprep\n",
      "bounds\tIs this a stopword? False\tNOUN\tpobj\n"
     ]
    }
   ],
   "source": [
    "# To visualize the analysis related to a specific tweet it is enough to retrieve the row of the tweet of interest\n",
    "# in the EDA dataframe.\n",
    "# Alternatively, for a word-by-word analysis, you can change the number inside the square brackets in the following\n",
    "# code and then execute it.\n",
    "\n",
    "for i in nlp(EDA.Tweet[2]):\n",
    "    print(i.text, \"Is this a stopword? \" + str(i.is_stop), i.pos_, i.dep_, sep='\\t')"
   ]
  },
  {
   "cell_type": "markdown",
   "metadata": {},
   "source": [
    "## 3. Machine Learning approach\n",
    "\n",
    "We are now in the critical part: choosing the best Machine Learning algorithm for predicting the sentiment polarity of a tweet. <br> The first thing to know is that raw text cannot be passed into a ML algorithm, therefore, we will extract features from our text by applying the **vectorization** (that is, extracting features from the raw text in order to pass numerical features to the machine learning algorithm). <br> After that, it will be possible to train, test and compare all of the different algorithms.\n",
    "\n",
    "The vectorization functions that we are going to use are Count Vectorizer and TF-IDF Vectorizer. <br>\n",
    "The machine learning algorithms that we are going to train and test are: Support Vector Machine, Multinomial Naive Bayes and Multinomial Logistic Regression.\n",
    "\n",
    "We will try every possible combination and in the end we will see which one performed better by looking at the **metrics**."
   ]
  },
  {
   "cell_type": "code",
   "execution_count": 17,
   "metadata": {},
   "outputs": [],
   "source": [
    "# Let's first modify our dataset one last time: lemmatization. It converts each token to its standard form.\n",
    "\n",
    "lemmatizer = WordNetLemmatizer()\n",
    "def lemmatization(tweet):\n",
    "    tweet = \" \".join([lemmatizer.lemmatize(word) for word in tweet.split()])\n",
    "    return tweet\n",
    "df[\"Tweet\"] = df[\"Tweet\"].apply(lambda x: lemmatization(x))"
   ]
  },
  {
   "cell_type": "code",
   "execution_count": 18,
   "metadata": {},
   "outputs": [],
   "source": [
    "# Creating another dataframe equal to the original one, but shuffled. Then dividing data into 80% training and\n",
    "# 20% test.\n",
    "\n",
    "X = df[\"Tweet\"]\n",
    "y = df[\"Sentiment\"]\n",
    "X_train, X_test, y_train, y_test = train_test_split(X, y, test_size=0.2, random_state=42)"
   ]
  },
  {
   "cell_type": "code",
   "execution_count": 19,
   "metadata": {},
   "outputs": [],
   "source": [
    "# Defining the pipelines (Vectorization -> Training).\n",
    "\n",
    "cv_svc = Pipeline([('cv', CountVectorizer()),\n",
    "                     ('clf', LinearSVC())])\n",
    "cv_mnb = Pipeline([('cv', CountVectorizer()),\n",
    "                     ('clf', MultinomialNB())])\n",
    "cv_lr = Pipeline([('cv', CountVectorizer()),\n",
    "                     ('clf', LogisticRegression())])\n",
    "tfidf_svc = Pipeline([('tfidf', TfidfVectorizer()),\n",
    "                     ('clf', LinearSVC())])\n",
    "tfidf_mnb = Pipeline([('tfidf', TfidfVectorizer()),\n",
    "                     ('clf', MultinomialNB())])\n",
    "tfidf_lr = Pipeline([('tfidf', TfidfVectorizer()),\n",
    "                     ('clf', LogisticRegression())])"
   ]
  },
  {
   "cell_type": "code",
   "execution_count": 20,
   "metadata": {},
   "outputs": [
    {
     "name": "stderr",
     "output_type": "stream",
     "text": [
      "/Users/nevrocerasani/opt/anaconda3/envs/text_mining/lib/python3.7/site-packages/sklearn/svm/_base.py:947: ConvergenceWarning: Liblinear failed to converge, increase the number of iterations.\n",
      "  \"the number of iterations.\", ConvergenceWarning)\n",
      "/Users/nevrocerasani/opt/anaconda3/envs/text_mining/lib/python3.7/site-packages/sklearn/linear_model/_logistic.py:940: ConvergenceWarning: lbfgs failed to converge (status=1):\n",
      "STOP: TOTAL NO. of ITERATIONS REACHED LIMIT.\n",
      "\n",
      "Increase the number of iterations (max_iter) or scale the data as shown in:\n",
      "    https://scikit-learn.org/stable/modules/preprocessing.html\n",
      "Please also refer to the documentation for alternative solver options:\n",
      "    https://scikit-learn.org/stable/modules/linear_model.html#logistic-regression\n",
      "  extra_warning_msg=_LOGISTIC_SOLVER_CONVERGENCE_MSG)\n",
      "/Users/nevrocerasani/opt/anaconda3/envs/text_mining/lib/python3.7/site-packages/sklearn/linear_model/_logistic.py:940: ConvergenceWarning: lbfgs failed to converge (status=1):\n",
      "STOP: TOTAL NO. of ITERATIONS REACHED LIMIT.\n",
      "\n",
      "Increase the number of iterations (max_iter) or scale the data as shown in:\n",
      "    https://scikit-learn.org/stable/modules/preprocessing.html\n",
      "Please also refer to the documentation for alternative solver options:\n",
      "    https://scikit-learn.org/stable/modules/linear_model.html#logistic-regression\n",
      "  extra_warning_msg=_LOGISTIC_SOLVER_CONVERGENCE_MSG)\n"
     ]
    },
    {
     "data": {
      "text/plain": [
       "Pipeline(memory=None,\n",
       "         steps=[('tfidf',\n",
       "                 TfidfVectorizer(analyzer='word', binary=False,\n",
       "                                 decode_error='strict',\n",
       "                                 dtype=<class 'numpy.float64'>,\n",
       "                                 encoding='utf-8', input='content',\n",
       "                                 lowercase=True, max_df=1.0, max_features=None,\n",
       "                                 min_df=1, ngram_range=(1, 1), norm='l2',\n",
       "                                 preprocessor=None, smooth_idf=True,\n",
       "                                 stop_words=None, strip_accents=None,\n",
       "                                 sublinear_tf=False,\n",
       "                                 token_pattern='(?u)\\\\b\\\\w\\\\w+\\\\b',\n",
       "                                 tokenizer=None, use_idf=True,\n",
       "                                 vocabulary=None)),\n",
       "                ('clf',\n",
       "                 LogisticRegression(C=1.0, class_weight=None, dual=False,\n",
       "                                    fit_intercept=True, intercept_scaling=1,\n",
       "                                    l1_ratio=None, max_iter=100,\n",
       "                                    multi_class='auto', n_jobs=None,\n",
       "                                    penalty='l2', random_state=None,\n",
       "                                    solver='lbfgs', tol=0.0001, verbose=0,\n",
       "                                    warm_start=False))],\n",
       "         verbose=False)"
      ]
     },
     "execution_count": 20,
     "metadata": {},
     "output_type": "execute_result"
    }
   ],
   "source": [
    "# Training the algorithms.\n",
    "\n",
    "cv_svc.fit(X_train, y_train)\n",
    "cv_mnb.fit(X_train, y_train)\n",
    "cv_lr.fit(X_train, y_train)\n",
    "tfidf_svc.fit(X_train, y_train)\n",
    "tfidf_mnb.fit(X_train, y_train)\n",
    "tfidf_lr.fit(X_train, y_train)"
   ]
  },
  {
   "cell_type": "code",
   "execution_count": 21,
   "metadata": {},
   "outputs": [],
   "source": [
    "# Testing the algorithms.\n",
    "\n",
    "test_cv_svc = cv_svc.predict(X_test)\n",
    "test_cv_mnb = cv_mnb.predict(X_test)\n",
    "test_cv_lr = cv_lr.predict(X_test)\n",
    "test_tfidf_svc = tfidf_svc.predict(X_test)\n",
    "test_tfidf_mnb = tfidf_mnb.predict(X_test)\n",
    "test_tfidf_lr = tfidf_lr.predict(X_test)"
   ]
  },
  {
   "cell_type": "code",
   "execution_count": 22,
   "metadata": {},
   "outputs": [],
   "source": [
    "# Incorporating their accuracies inside the variables for simplicity.\n",
    "\n",
    "acc_cv_svc = metrics.accuracy_score(y_test, test_cv_svc)\n",
    "acc_cv_mnb = metrics.accuracy_score(y_test, test_cv_mnb)\n",
    "acc_cv_lr = metrics.accuracy_score(y_test, test_cv_lr)\n",
    "acc_tfidf_svc = metrics.accuracy_score(y_test, test_tfidf_svc)\n",
    "acc_tfidf_mnb = metrics.accuracy_score(y_test, test_tfidf_mnb)\n",
    "acc_tfidf_lr = metrics.accuracy_score(y_test, test_tfidf_lr)"
   ]
  },
  {
   "cell_type": "code",
   "execution_count": 23,
   "metadata": {},
   "outputs": [],
   "source": [
    "# Creating a dataframe with all the accuracies to see which model performed better.\n",
    "\n",
    "accuracy = [[\"Count Vectorizer\", \"Support Vector Machine\", acc_cv_svc], [\"Count Vectorizer\", \"Multinomial Naive Bayes\", acc_cv_mnb], [\"Count Vectorizer\", \"Multinomial Logistic Regression\", acc_cv_lr],\n",
    "           [\"TF-IDF\", \"Support Vector Machine\", acc_tfidf_svc], [\"TF-IDF\", \"Multinomial Naive Bayes\", acc_tfidf_mnb], [\"TF-IDF\", \"Multinomial Logistic Regression\", acc_tfidf_lr]]\n",
    "accuracy_df = pd.DataFrame(accuracy, columns = [\"Vectorization\", \"Algorithm\", \"Accuracy\"])"
   ]
  },
  {
   "cell_type": "code",
   "execution_count": 24,
   "metadata": {},
   "outputs": [
    {
     "data": {
      "text/html": [
       "<div>\n",
       "<style scoped>\n",
       "    .dataframe tbody tr th:only-of-type {\n",
       "        vertical-align: middle;\n",
       "    }\n",
       "\n",
       "    .dataframe tbody tr th {\n",
       "        vertical-align: top;\n",
       "    }\n",
       "\n",
       "    .dataframe thead th {\n",
       "        text-align: right;\n",
       "    }\n",
       "</style>\n",
       "<table border=\"1\" class=\"dataframe\">\n",
       "  <thead>\n",
       "    <tr style=\"text-align: right;\">\n",
       "      <th></th>\n",
       "      <th>Vectorization</th>\n",
       "      <th>Algorithm</th>\n",
       "      <th>Accuracy</th>\n",
       "    </tr>\n",
       "  </thead>\n",
       "  <tbody>\n",
       "    <tr>\n",
       "      <th>0</th>\n",
       "      <td>Count Vectorizer</td>\n",
       "      <td>Support Vector Machine</td>\n",
       "      <td>0.788309</td>\n",
       "    </tr>\n",
       "    <tr>\n",
       "      <th>1</th>\n",
       "      <td>Count Vectorizer</td>\n",
       "      <td>Multinomial Naive Bayes</td>\n",
       "      <td>0.779987</td>\n",
       "    </tr>\n",
       "    <tr>\n",
       "      <th>2</th>\n",
       "      <td>Count Vectorizer</td>\n",
       "      <td>Multinomial Logistic Regression</td>\n",
       "      <td>0.794759</td>\n",
       "    </tr>\n",
       "    <tr>\n",
       "      <th>3</th>\n",
       "      <td>TF-IDF</td>\n",
       "      <td>Support Vector Machine</td>\n",
       "      <td>0.792244</td>\n",
       "    </tr>\n",
       "    <tr>\n",
       "      <th>4</th>\n",
       "      <td>TF-IDF</td>\n",
       "      <td>Multinomial Naive Bayes</td>\n",
       "      <td>0.773250</td>\n",
       "    </tr>\n",
       "    <tr>\n",
       "      <th>5</th>\n",
       "      <td>TF-IDF</td>\n",
       "      <td>Multinomial Logistic Regression</td>\n",
       "      <td>0.797600</td>\n",
       "    </tr>\n",
       "  </tbody>\n",
       "</table>\n",
       "</div>"
      ],
      "text/plain": [
       "      Vectorization                        Algorithm  Accuracy\n",
       "0  Count Vectorizer           Support Vector Machine  0.788309\n",
       "1  Count Vectorizer          Multinomial Naive Bayes  0.779987\n",
       "2  Count Vectorizer  Multinomial Logistic Regression  0.794759\n",
       "3            TF-IDF           Support Vector Machine  0.792244\n",
       "4            TF-IDF          Multinomial Naive Bayes  0.773250\n",
       "5            TF-IDF  Multinomial Logistic Regression  0.797600"
      ]
     },
     "execution_count": 24,
     "metadata": {},
     "output_type": "execute_result"
    }
   ],
   "source": [
    "accuracy_df"
   ]
  },
  {
   "cell_type": "code",
   "execution_count": 25,
   "metadata": {},
   "outputs": [
    {
     "name": "stdout",
     "output_type": "stream",
     "text": [
      "Classification report: \n",
      "\n",
      "              precision    recall  f1-score   support\n",
      "\n",
      "           0       0.80      0.79      0.80    159494\n",
      "           4       0.79      0.81      0.80    160506\n",
      "\n",
      "    accuracy                           0.80    320000\n",
      "   macro avg       0.80      0.80      0.80    320000\n",
      "weighted avg       0.80      0.80      0.80    320000\n",
      "\n"
     ]
    },
    {
     "data": {
      "image/png": "[encoded data removed]",
      "text/plain": [
       "<Figure size 360x360 with 2 Axes>"
      ]
     },
     "metadata": {
      "needs_background": "light"
     },
     "output_type": "display_data"
    }
   ],
   "source": [
    "# It seems that the best performing algorithm is the Multinomial Logistic Regression, with the text vectorized by\n",
    "# the TF-IDF technique: we reached an accuracy of 80%!\n",
    "# Let's investigate it in further details by looking at the classification report and the confusion matrix.\n",
    "\n",
    "print(\"Classification report: \\n\")\n",
    "print(metrics.classification_report(y_test, test_tfidf_lr))\n",
    "cm = metrics.confusion_matrix(y_test, test_tfidf_lr)\n",
    "plt.figure(figsize=(5,5))\n",
    "sn.heatmap(cm, annot=True, fmt=\"d\")\n",
    "plt.title(\"Confusion matrix \\n \\n\")\n",
    "plt.ylabel(\"Actual\")\n",
    "plt.xlabel(\"Predicted\")\n",
    "plt.show()"
   ]
  },
  {
   "cell_type": "markdown",
   "metadata": {},
   "source": [
    "At the end of our sentiment analysis, we can conclude that all of the compared algorithms did a great job. They all reached more or less the same accuracy with minimum deviations, but the best performing one was the **Multinomial Logistic Regression** combined with the **TF-IDF** vectorization technique.\n",
    "Our choice is justified by its 80% accuracy: in plain words it means that our algorithm is able to tell a positive tweet from a negative one 80 times out of 100.\n",
    "More in detail: the total number of correctly classified tweets is 255.232 (125.685 + 129.547), while the total number of wrongly classified tweets is 64.768 (30.959 + 33.809)."
   ]
  }
 ],
 "metadata": {
  "kernelspec": {
   "display_name": "Python 3",
   "language": "python",
   "name": "python3"
  },
  "language_info": {
   "codemirror_mode": {
    "name": "ipython",
    "version": 3
   },
   "file_extension": ".py",
   "mimetype": "text/x-python",
   "name": "python",
   "nbconvert_exporter": "python",
   "pygments_lexer": "ipython3",
   "version": "3.7.4"
  }
 },
 "nbformat": 4,
 "nbformat_minor": 4
}
